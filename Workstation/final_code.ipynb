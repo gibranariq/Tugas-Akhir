{
 "cells": [
  {
   "cell_type": "code",
   "execution_count": 1,
   "metadata": {},
   "outputs": [
    {
     "name": "stderr",
     "output_type": "stream",
     "text": [
      "C:\\Users\\Gibran\\AppData\\Roaming\\Python\\Python310\\site-packages\\tqdm\\auto.py:21: TqdmWarning: IProgress not found. Please update jupyter and ipywidgets. See https://ipywidgets.readthedocs.io/en/stable/user_install.html\n",
      "  from .autonotebook import tqdm as notebook_tqdm\n"
     ]
    }
   ],
   "source": [
    "import pandas as pd\n",
    "import torch\n",
    "import re\n",
    "import matplotlib.pyplot as plt\n",
    "from sklearn.model_selection import train_test_split\n",
    "from sklearn.metrics import classification_report, accuracy_score, precision_score, recall_score, f1_score\n",
    "from transformers import (\n",
    "    AutoTokenizer, \n",
    "    AutoModelForSequenceClassification, \n",
    "    Trainer, \n",
    "    TrainingArguments,\n",
    "    EarlyStoppingCallback, \n",
    "    EvalPrediction\n",
    ")\n",
    "from sklearn.metrics import confusion_matrix\n",
    "import seaborn as sns"
   ]
  },
  {
   "cell_type": "code",
   "execution_count": 2,
   "metadata": {},
   "outputs": [
    {
     "name": "stdout",
     "output_type": "stream",
     "text": [
      "<class 'pandas.core.frame.DataFrame'>\n",
      "Index: 491 entries, 0 to 217\n",
      "Data columns (total 6 columns):\n",
      " #   Column     Non-Null Count  Dtype \n",
      "---  ------     --------------  ----- \n",
      " 0   date       491 non-null    object\n",
      " 1   URL        491 non-null    object\n",
      " 2   Title      491 non-null    object\n",
      " 3   Narrative  491 non-null    object\n",
      " 4   Statement  491 non-null    object\n",
      " 5   Label      491 non-null    int64 \n",
      "dtypes: int64(1), object(5)\n",
      "memory usage: 26.9+ KB\n",
      "Dataset Information:\n",
      " None\n",
      "<class 'pandas.core.frame.DataFrame'>\n",
      "Index: 107 entries, 0 to 47\n",
      "Data columns (total 6 columns):\n",
      " #   Column     Non-Null Count  Dtype \n",
      "---  ------     --------------  ----- \n",
      " 0   date       107 non-null    object\n",
      " 1   URL        107 non-null    object\n",
      " 2   Title      107 non-null    object\n",
      " 3   Narrative  107 non-null    object\n",
      " 4   Statement  107 non-null    object\n",
      " 5   Label      107 non-null    int64 \n",
      "dtypes: int64(1), object(5)\n",
      "memory usage: 5.9+ KB\n",
      "Dataset Information:\n",
      " None\n",
      "Contoh Data:\n",
      "                date                                                URL  \\\n",
      "0  Desember 8, 2024  https://turnbackhoax.id/2024/12/08/penipuan-pr...   \n",
      "1  Desember 7, 2024  https://turnbackhoax.id/2024/12/07/salah-apple...   \n",
      "2  Desember 4, 2024  https://turnbackhoax.id/2024/12/04/salah-ada-b...   \n",
      "3  Desember 3, 2024  https://turnbackhoax.id/2024/12/03/salah-megaw...   \n",
      "4  Desember 3, 2024  https://turnbackhoax.id/2024/12/03/salah-prabo...   \n",
      "\n",
      "                                               Title  \\\n",
      "0  [PENIPUAN] Prabowo Bikin Kuis Tebak Angka, Had...   \n",
      "1  [SALAH] Apple Mau Investasi ke RI kalau Seluru...   \n",
      "2  [SALAH] Ada Bansos Jutaan Rupiah di dalam Kart...   \n",
      "3  [SALAH] Megawati Bekingi Tersangka Kasus Judi ...   \n",
      "4  [SALAH] Prabowo Tidak Segan-Segan Seret Jokowi...   \n",
      "\n",
      "                                           Narrative  \\\n",
      "0  Akun Threads “giveaway_berbagi11” pada Jumat (...   \n",
      "1  Akun TikTok “sejarahpolitikindonesia” pada Jum...   \n",
      "2  Akun TikTok “info.rakyat2” pada Minggu (24/11/...   \n",
      "3  Akun Facebook “Pusing Sama Dunia” pada Selasa ...   \n",
      "4  Beredarvideodari kanal YouTube “KAJIAN ASWAJA”...   \n",
      "\n",
      "                                           Statement  Label  \n",
      "0  “Sampai Sekarang Belum Ada Yang Bisa!! Bapak K...      1  \n",
      "1  “Fakta Sejarah:Apple perusahaan Amerika ingin ...      1  \n",
      "2  “Ternyata di dalam kartu KIS BPJS Kesehatan ad...      1  \n",
      "3  “The Real PERINGATAN DARURAT‼️ Sangat-sangat M...      1  \n",
      "4  GEGER! BARU BOCOR MALAM INI, PRABOWO TAK SEGAN...      1  \n",
      "Contoh Data:\n",
      "                 date                                                URL  \\\n",
      "0  Februari 20, 2023  https://turnbackhoax.id/2023/02/20/salah-rudal...   \n",
      "1  Februari 11, 2023  https://turnbackhoax.id/2023/02/11/salah-rudal...   \n",
      "2   Januari 22, 2023  https://turnbackhoax.id/2023/01/22/salah-indon...   \n",
      "3   Januari 18, 2023  https://turnbackhoax.id/2023/01/18/erdogan-tur...   \n",
      "4  Desember 27, 2022  https://turnbackhoax.id/2022/12/27/salah-surat...   \n",
      "\n",
      "                                               Title  \\\n",
      "0  [SALAH] Rudal Rusia Hancurkan Apartemen di New...   \n",
      "1  [SALAH] Rudal Indonesia Hancurkan Tentara dan ...   \n",
      "2  [SALAH] Indonesia Vs Australia Pecah!!! Indone...   \n",
      "3  [SALAH] ERDOGAN TURUN TANGAN…!!! TURKI LUNCURK...   \n",
      "4  [SALAH] Surat Pemberitahuan Terkait Pemberian ...   \n",
      "\n",
      "                                           Narrative  \\\n",
      "0  Channel YouTube DUNIA BERITA (https://www.yout...   \n",
      "1  Channel YouTube Dunia Berita (https://www.yout...   \n",
      "2  Sebuah akun Facebook membagikan video yang dik...   \n",
      "3  Akun Youtube DINDING PERTAHANAN mengunggah vid...   \n",
      "4  Beredar surat pemberitahuan terkait pemberian ...   \n",
      "\n",
      "                                           Statement  Label  \n",
      "0  SITUASI MENCEKAM!!SERANGAN SUSULAN RUSIA PANGG...      1  \n",
      "1  TNI LUNCURKAN LUSINAN RUDAL BANTAI TENTARA AUS...      1  \n",
      "2  TERKINI !!INDONESIA VS AUSTRALIA PECAHH!! INDO...      1  \n",
      "3  ERDOGAN TURUN TANGAN !!! TURKI LUNCURKAN RIBUA...      1  \n",
      "4  Kepada Yth,Pimpinan Lembaga Penerima BantuanDi...      1  \n"
     ]
    }
   ],
   "source": [
    "# === 1. Load Dataset (Data Lama dan Baru) ===\n",
    "hoax_lama = pd.read_csv('..\\dataset TA - data fake fix.csv')  # Data hoax lama\n",
    "real_lama = pd.read_csv('..\\dataset TA - data real fix.csv')  # Data real lama\n",
    "\n",
    "hoax_baru = pd.read_csv('..\\dataset TA - faqe baru.csv')  # Data hoax baru\n",
    "real_baru = pd.read_csv('..\\dataset TA - riyal baru.csv')  # Data real baru\n",
    "\n",
    "# === 2. Gabungkan Data Lama dan Baru ===\n",
    "combined_lama = pd.concat([hoax_lama, real_lama], axis=0)\n",
    "combined_baru = pd.concat([hoax_baru, real_baru], axis=0)\n",
    "\n",
    "print(\"Dataset Information:\\n\", combined_lama.info())\n",
    "print(\"Dataset Information:\\n\", combined_baru.info())\n",
    "print(\"Contoh Data:\\n\", combined_lama.head())\n",
    "print(\"Contoh Data:\\n\", combined_baru.head())\n",
    "\n",
    "\n",
    "# Simpan ke CSV\n",
    "combined_lama.to_csv('data lama.csv', index=False)\n",
    "combined_baru.to_csv('data baru.csv', index=False)\n"
   ]
  },
  {
   "cell_type": "code",
   "execution_count": 3,
   "metadata": {},
   "outputs": [],
   "source": [
    "# === 3. Preprocessing (Sama seperti Sebelumnya) ===\n",
    "def remove_emoji(text):\n",
    "    emoji_pattern = re.compile(\"[\"    \n",
    "                                u\"\\U0001F600-\\U0001F64F\"\n",
    "                                u\"\\U0001F300-\\U0001F5FF\"\n",
    "                                u\"\\U0001F680-\\U0001F6FF\"\n",
    "                                u\"\\U0001F700-\\U0001F77F\"\n",
    "                                u\"\\U0001F780-\\U0001F7FF\"\n",
    "                                u\"\\U0001F800-\\U0001F8FF\"\n",
    "                                u\"\\U00002600-\\U000026FF\"\n",
    "                                u\"\\U00002700-\\U000027BF\"\n",
    "                                \"]+\", flags=re.UNICODE)\n",
    "    return emoji_pattern.sub(r'', text)\n",
    "\n",
    "def remove_special_chars(text):\n",
    "    text = re.sub(r'[\\[\\]@]', '', text)\n",
    "    text = re.sub(r'http\\S+|www\\S+|https\\S+', '', text)\n",
    "    return text\n",
    "\n",
    "def lowercase_text(text):\n",
    "    return text.lower()\n",
    "\n",
    "def preprocess_text(text):\n",
    "    text = remove_emoji(text)\n",
    "    text = remove_special_chars(text)\n",
    "    text = lowercase_text(text)\n",
    "    return text\n",
    "\n",
    "# Terapkan Preprocessing\n",
    "combined_lama['Narrative'] = combined_lama['Narrative'].apply(preprocess_text)\n",
    "combined_lama['Statement'] = combined_lama['Statement'].apply(preprocess_text)\n",
    "\n",
    "combined_baru['Narrative'] = combined_baru['Narrative'].apply(preprocess_text)\n",
    "combined_baru['Statement'] = combined_baru['Statement'].apply(preprocess_text)"
   ]
  },
  {
   "cell_type": "code",
   "execution_count": 4,
   "metadata": {},
   "outputs": [
    {
     "name": "stdout",
     "output_type": "stream",
     "text": [
      "Jumlah Data Train: 392\n",
      "Jumlah Data Validation: 99\n",
      "Jumlah Data Test (Baru): 107\n"
     ]
    }
   ],
   "source": [
    "# === 4. Bagi Data Lama Menjadi Train dan Validation ===\n",
    "train_texts, val_texts, train_labels, val_labels = train_test_split(\n",
    "    combined_lama[['Statement', 'Narrative']],\n",
    "    combined_lama['Label'],\n",
    "    test_size=0.2,  # 20% untuk validation\n",
    "    stratify=combined_lama['Label'],\n",
    "    random_state=42\n",
    ")\n",
    "\n",
    "# Data Baru Sebagai Test Set\n",
    "test_texts = combined_baru[['Statement', 'Narrative']]\n",
    "test_labels = combined_baru['Label']\n",
    "\n",
    "# Konfirmasi Jumlah Data\n",
    "print(f\"Jumlah Data Train: {len(train_texts)}\")\n",
    "print(f\"Jumlah Data Validation: {len(val_texts)}\")\n",
    "print(f\"Jumlah Data Test (Baru): {len(test_texts)}\")"
   ]
  },
  {
   "cell_type": "code",
   "execution_count": 5,
   "metadata": {},
   "outputs": [
    {
     "name": "stdout",
     "output_type": "stream",
     "text": [
      "Dataset Train dan Test berhasil disimpan:\n",
      "Jumlah Data Train: 392\n",
      "Jumlah Data Validation : 99\n",
      "Jumlah Data Test : 107\n"
     ]
    }
   ],
   "source": [
    "# Gabungkan kembali data Train\n",
    "train_df = pd.DataFrame({\n",
    "    'Statement': train_texts['Statement'],\n",
    "    'Narrative': train_texts['Narrative'],\n",
    "    'Label': train_labels\n",
    "})\n",
    "\n",
    "# Gabungkan kembali data Test\n",
    "val_df = pd.DataFrame({\n",
    "    'Statement': val_texts['Statement'],\n",
    "    'Narrative': val_texts['Narrative'],\n",
    "    'Label': val_labels\n",
    "})\n",
    "\n",
    "# Gabungkan kembali data Test\n",
    "test_df = pd.DataFrame({\n",
    "    'Statement': test_texts['Statement'],\n",
    "    'Narrative': test_texts['Narrative'],\n",
    "    'Label': test_labels\n",
    "})\n",
    "\n",
    "# Simpan ke CSV\n",
    "train_df.to_csv('train_dataset.csv', index=False)\n",
    "val_df.to_csv('val_dataset.csv', index=False)\n",
    "test_df.to_csv('test_dataset.csv', index=False)\n",
    "\n",
    "print(\"Dataset Train dan Test berhasil disimpan:\")\n",
    "print(f\"Jumlah Data Train: {train_df.shape[0]}\")\n",
    "print(f\"Jumlah Data Validation : {val_df.shape[0]}\")\n",
    "print(f\"Jumlah Data Test : {test_df.shape[0]}\")\n"
   ]
  },
  {
   "cell_type": "code",
   "execution_count": 6,
   "metadata": {},
   "outputs": [
    {
     "name": "stderr",
     "output_type": "stream",
     "text": [
      "C:\\Users\\Gibran\\AppData\\Roaming\\Python\\Python310\\site-packages\\huggingface_hub\\file_download.py:795: FutureWarning: `resume_download` is deprecated and will be removed in version 1.0.0. Downloads always resume when possible. If you want to force a new download, use `force_download=True`.\n",
      "  warnings.warn(\n"
     ]
    }
   ],
   "source": [
    "tokenizer = AutoTokenizer.from_pretrained(\"indobenchmark/indobert-base-p1\")\n",
    "\n",
    "# Tokenisasi untuk Simple Model\n",
    "train_encodings_simple = tokenizer(list(train_texts['Statement']), truncation=True, padding=True, max_length=512)\n",
    "val_encodings_simple = tokenizer(list(val_texts['Statement']), truncation=True, padding=True, max_length=512)\n",
    "test_encodings_simple = tokenizer(list(test_texts['Statement']), truncation=True, padding=True, max_length=512)\n",
    "\n",
    "# Tokenisasi untuk NLI Model (Statement + Narrative)\n",
    "train_encodings_nli = tokenizer(list(train_texts['Statement']), list(train_texts['Narrative']), truncation=True, padding=True, max_length=512)\n",
    "val_encodings_nli = tokenizer(list(val_texts['Statement']), list(val_texts['Narrative']), truncation=True, padding=True, max_length=512)\n",
    "test_encodings_nli = tokenizer(list(test_texts['Statement']), list(test_texts['Narrative']), truncation=True, padding=True, max_length=512)"
   ]
  },
  {
   "cell_type": "code",
   "execution_count": 7,
   "metadata": {},
   "outputs": [],
   "source": [
    "# === 6. Dataset PyTorch ===\n",
    "class NewsDataset(torch.utils.data.Dataset):\n",
    "    def __init__(self, encodings, labels):\n",
    "        self.encodings = encodings\n",
    "        self.labels = labels\n",
    "\n",
    "    def __len__(self):\n",
    "        return len(self.labels)\n",
    "\n",
    "    def __getitem__(self, idx):\n",
    "        item = {key: torch.tensor(val[idx]) for key, val in self.encodings.items()}\n",
    "        item['labels'] = torch.tensor(self.labels.iloc[idx])\n",
    "        return item\n",
    "\n",
    "train_dataset_simple = NewsDataset(train_encodings_simple, train_labels)\n",
    "val_dataset_simple = NewsDataset(val_encodings_simple, val_labels)\n",
    "test_dataset_simple = NewsDataset(test_encodings_simple, test_labels)\n",
    "\n",
    "train_dataset_nli = NewsDataset(train_encodings_nli, train_labels)\n",
    "val_dataset_nli = NewsDataset(val_encodings_nli, val_labels)\n",
    "test_dataset_nli = NewsDataset(test_encodings_nli, test_labels)"
   ]
  },
  {
   "cell_type": "code",
   "execution_count": 8,
   "metadata": {},
   "outputs": [],
   "source": [
    "# Fungsi untuk Menghitung Akurasi\n",
    "def compute_metrics(eval_pred: EvalPrediction):\n",
    "    logits, labels = eval_pred\n",
    "    predictions = torch.argmax(torch.tensor(logits), dim=-1)\n",
    "    acc = accuracy_score(labels, predictions)\n",
    "    return {\"accuracy\": acc}"
   ]
  },
  {
   "cell_type": "code",
   "execution_count": 9,
   "metadata": {},
   "outputs": [
    {
     "name": "stderr",
     "output_type": "stream",
     "text": [
      "Some weights of BertForSequenceClassification were not initialized from the model checkpoint at indobenchmark/indobert-base-p1 and are newly initialized: ['classifier.weight', 'classifier.bias']\n",
      "You should probably TRAIN this model on a down-stream task to be able to use it for predictions and inference.\n",
      "C:\\Users\\Gibran\\AppData\\Roaming\\Python\\Python310\\site-packages\\transformers\\optimization.py:411: FutureWarning: This implementation of AdamW is deprecated and will be removed in a future version. Use the PyTorch implementation torch.optim.AdamW instead, or set `no_deprecation_warning=True` to disable this warning\n",
      "  warnings.warn(\n",
      " 25%|██▌       | 25/100 [20:26<50:02, 40.03s/it]  "
     ]
    },
    {
     "name": "stdout",
     "output_type": "stream",
     "text": [
      "{'loss': 0.5318, 'learning_rate': 7.500000000000001e-06, 'epoch': 1.0}\n"
     ]
    },
    {
     "name": "stderr",
     "output_type": "stream",
     "text": [
      "                                                \n",
      " 25%|██▌       | 25/100 [22:41<50:02, 40.03s/it]"
     ]
    },
    {
     "name": "stdout",
     "output_type": "stream",
     "text": [
      "{'eval_loss': 0.30914974212646484, 'eval_accuracy': 0.8888888888888888, 'eval_runtime': 134.4444, 'eval_samples_per_second': 0.736, 'eval_steps_per_second': 0.097, 'epoch': 1.0}\n"
     ]
    },
    {
     "name": "stderr",
     "output_type": "stream",
     "text": [
      " 50%|█████     | 50/100 [46:43<40:57, 49.14s/it]  "
     ]
    },
    {
     "name": "stdout",
     "output_type": "stream",
     "text": [
      "{'loss': 0.2831, 'learning_rate': 5e-06, 'epoch': 2.0}\n"
     ]
    },
    {
     "name": "stderr",
     "output_type": "stream",
     "text": [
      "                                                \n",
      " 50%|█████     | 50/100 [48:56<40:57, 49.14s/it]"
     ]
    },
    {
     "name": "stdout",
     "output_type": "stream",
     "text": [
      "{'eval_loss': 0.27302759885787964, 'eval_accuracy': 0.8686868686868687, 'eval_runtime': 133.2402, 'eval_samples_per_second': 0.743, 'eval_steps_per_second': 0.098, 'epoch': 2.0}\n"
     ]
    },
    {
     "name": "stderr",
     "output_type": "stream",
     "text": [
      " 75%|███████▌  | 75/100 [1:12:37<18:30, 44.40s/it]"
     ]
    },
    {
     "name": "stdout",
     "output_type": "stream",
     "text": [
      "{'loss': 0.1856, 'learning_rate': 2.5e-06, 'epoch': 3.0}\n"
     ]
    },
    {
     "name": "stderr",
     "output_type": "stream",
     "text": [
      "                                                  \n",
      " 75%|███████▌  | 75/100 [1:14:50<18:30, 44.40s/it]"
     ]
    },
    {
     "name": "stdout",
     "output_type": "stream",
     "text": [
      "{'eval_loss': 0.22252903878688812, 'eval_accuracy': 0.898989898989899, 'eval_runtime': 132.55, 'eval_samples_per_second': 0.747, 'eval_steps_per_second': 0.098, 'epoch': 3.0}\n"
     ]
    },
    {
     "name": "stderr",
     "output_type": "stream",
     "text": [
      "100%|██████████| 100/100 [1:34:12<00:00, 39.86s/it]"
     ]
    },
    {
     "name": "stdout",
     "output_type": "stream",
     "text": [
      "{'loss': 0.1272, 'learning_rate': 0.0, 'epoch': 4.0}\n"
     ]
    },
    {
     "name": "stderr",
     "output_type": "stream",
     "text": [
      "                                                   \n",
      "100%|██████████| 100/100 [1:36:25<00:00, 39.86s/it]"
     ]
    },
    {
     "name": "stdout",
     "output_type": "stream",
     "text": [
      "{'eval_loss': 0.22795546054840088, 'eval_accuracy': 0.8888888888888888, 'eval_runtime': 133.0572, 'eval_samples_per_second': 0.744, 'eval_steps_per_second': 0.098, 'epoch': 4.0}\n"
     ]
    },
    {
     "name": "stderr",
     "output_type": "stream",
     "text": [
      "100%|██████████| 100/100 [1:36:28<00:00, 39.86s/it]"
     ]
    },
    {
     "name": "stdout",
     "output_type": "stream",
     "text": [
      "{'train_runtime': 5788.5426, 'train_samples_per_second': 0.271, 'train_steps_per_second': 0.017, 'train_loss': 0.28192577362060545, 'epoch': 4.0}\n"
     ]
    },
    {
     "name": "stderr",
     "output_type": "stream",
     "text": [
      "100%|██████████| 100/100 [1:36:28<00:00, 57.89s/it]\n"
     ]
    },
    {
     "data": {
      "text/plain": [
       "TrainOutput(global_step=100, training_loss=0.28192577362060545, metrics={'train_runtime': 5788.5426, 'train_samples_per_second': 0.271, 'train_steps_per_second': 0.017, 'train_loss': 0.28192577362060545, 'epoch': 4.0})"
      ]
     },
     "execution_count": 9,
     "metadata": {},
     "output_type": "execute_result"
    }
   ],
   "source": [
    "# === 7. Training (Simple Model) ===\n",
    "simple_model = AutoModelForSequenceClassification.from_pretrained(\n",
    "    \"indobenchmark/indobert-base-p1\", num_labels=2\n",
    ")\n",
    "\n",
    "training_args_simple = TrainingArguments(\n",
    "    output_dir=\"./results_simple\",\n",
    "    evaluation_strategy=\"epoch\",              \n",
    "    save_strategy=\"epoch\",                    \n",
    "    logging_strategy=\"epoch\",                 # Logging train_loss dan eval_loss setiap epoch\n",
    "    load_best_model_at_end=True,\n",
    "    learning_rate=1e-5,\n",
    "    per_device_train_batch_size=16,\n",
    "    num_train_epochs=4,\n",
    "    weight_decay=0.2,\n",
    "    logging_dir=\"./logs_simple\"\n",
    ")\n",
    "\n",
    "trainer_simple = Trainer(\n",
    "    model=simple_model,\n",
    "    args=training_args_simple,\n",
    "    train_dataset=train_dataset_simple,\n",
    "    eval_dataset=val_dataset_simple,\n",
    "    compute_metrics=compute_metrics,\n",
    "    callbacks=[EarlyStoppingCallback(early_stopping_patience=1)]\n",
    "\n",
    ")\n",
    "\n",
    "trainer_simple.train()"
   ]
  },
  {
   "cell_type": "code",
   "execution_count": 10,
   "metadata": {},
   "outputs": [
    {
     "name": "stderr",
     "output_type": "stream",
     "text": [
      "C:\\Users\\Gibran\\AppData\\Roaming\\Python\\Python310\\site-packages\\huggingface_hub\\file_download.py:795: FutureWarning: `resume_download` is deprecated and will be removed in version 1.0.0. Downloads always resume when possible. If you want to force a new download, use `force_download=True`.\n",
      "  warnings.warn(\n",
      "Some weights of BertForSequenceClassification were not initialized from the model checkpoint at indobenchmark/indobert-base-p1 and are newly initialized: ['classifier.weight', 'classifier.bias']\n",
      "You should probably TRAIN this model on a down-stream task to be able to use it for predictions and inference.\n",
      "C:\\Users\\Gibran\\AppData\\Roaming\\Python\\Python310\\site-packages\\transformers\\optimization.py:411: FutureWarning: This implementation of AdamW is deprecated and will be removed in a future version. Use the PyTorch implementation torch.optim.AdamW instead, or set `no_deprecation_warning=True` to disable this warning\n",
      "  warnings.warn(\n",
      " 17%|█▋        | 25/150 [18:13<1:15:58, 36.47s/it]"
     ]
    },
    {
     "name": "stdout",
     "output_type": "stream",
     "text": [
      "{'loss': 0.4456, 'learning_rate': 8.333333333333334e-06, 'epoch': 1.0}\n"
     ]
    },
    {
     "name": "stderr",
     "output_type": "stream",
     "text": [
      "\n",
      " 17%|█▋        | 25/150 [20:08<1:15:58, 36.47s/it]"
     ]
    },
    {
     "name": "stdout",
     "output_type": "stream",
     "text": [
      "{'eval_loss': 0.19761066138744354, 'eval_accuracy': 0.9494949494949495, 'eval_runtime': 114.5638, 'eval_samples_per_second': 0.864, 'eval_steps_per_second': 0.113, 'epoch': 1.0}\n"
     ]
    },
    {
     "name": "stderr",
     "output_type": "stream",
     "text": [
      " 33%|███▎      | 50/150 [38:05<1:06:14, 39.75s/it]"
     ]
    },
    {
     "name": "stdout",
     "output_type": "stream",
     "text": [
      "{'loss': 0.1373, 'learning_rate': 6.666666666666667e-06, 'epoch': 2.0}\n"
     ]
    },
    {
     "name": "stderr",
     "output_type": "stream",
     "text": [
      "\n",
      " 33%|███▎      | 50/150 [39:59<1:06:14, 39.75s/it]"
     ]
    },
    {
     "name": "stdout",
     "output_type": "stream",
     "text": [
      "{'eval_loss': 0.10124704241752625, 'eval_accuracy': 0.9595959595959596, 'eval_runtime': 113.7026, 'eval_samples_per_second': 0.871, 'eval_steps_per_second': 0.114, 'epoch': 2.0}\n"
     ]
    },
    {
     "name": "stderr",
     "output_type": "stream",
     "text": [
      " 50%|█████     | 75/150 [1:01:42<56:17, 45.04s/it]  "
     ]
    },
    {
     "name": "stdout",
     "output_type": "stream",
     "text": [
      "{'loss': 0.058, 'learning_rate': 5e-06, 'epoch': 3.0}\n"
     ]
    },
    {
     "name": "stderr",
     "output_type": "stream",
     "text": [
      "\n",
      " 50%|█████     | 75/150 [1:03:36<56:17, 45.04s/it]"
     ]
    },
    {
     "name": "stdout",
     "output_type": "stream",
     "text": [
      "{'eval_loss': 0.13584522902965546, 'eval_accuracy': 0.9595959595959596, 'eval_runtime': 114.0457, 'eval_samples_per_second': 0.868, 'eval_steps_per_second': 0.114, 'epoch': 3.0}\n"
     ]
    },
    {
     "name": "stderr",
     "output_type": "stream",
     "text": [
      " 50%|█████     | 75/150 [1:03:40<1:03:40, 50.95s/it]"
     ]
    },
    {
     "name": "stdout",
     "output_type": "stream",
     "text": [
      "{'train_runtime': 3820.9699, 'train_samples_per_second': 0.616, 'train_steps_per_second': 0.039, 'train_loss': 0.21364489555358887, 'epoch': 3.0}\n"
     ]
    },
    {
     "name": "stderr",
     "output_type": "stream",
     "text": [
      "\n"
     ]
    },
    {
     "data": {
      "text/plain": [
       "TrainOutput(global_step=75, training_loss=0.21364489555358887, metrics={'train_runtime': 3820.9699, 'train_samples_per_second': 0.616, 'train_steps_per_second': 0.039, 'train_loss': 0.21364489555358887, 'epoch': 3.0})"
      ]
     },
     "execution_count": 10,
     "metadata": {},
     "output_type": "execute_result"
    }
   ],
   "source": [
    "# === 8. Training (NLI Model) ===\n",
    "\n",
    "# Custom Model untuk NLI (Dengan Dropout)\n",
    "class CustomNLIModel(AutoModelForSequenceClassification):\n",
    "    def __init__(self, config):\n",
    "        super().__init__(config)\n",
    "        self.dropout = torch.nn.Dropout(0.1)\n",
    "\n",
    "nli_model = AutoModelForSequenceClassification.from_pretrained(\n",
    "    \"indobenchmark/indobert-base-p1\", num_labels=2\n",
    ")\n",
    "\n",
    "training_args_nli = TrainingArguments(\n",
    "    output_dir=\"./results_nli\",\n",
    "    evaluation_strategy=\"epoch\",              \n",
    "    save_strategy=\"epoch\",                    \n",
    "    logging_strategy=\"epoch\",                 # Logging train_loss dan eval_loss setiap epoch\n",
    "    load_best_model_at_end=True,\n",
    "    learning_rate=1e-5,\n",
    "    per_device_train_batch_size=16,\n",
    "    num_train_epochs=6,\n",
    "    weight_decay=0.1,\n",
    "    logging_dir=\"./logs_nli\"\n",
    ")\n",
    "\n",
    "trainer_nli = Trainer(\n",
    "    model=nli_model,\n",
    "    args=training_args_nli,\n",
    "    train_dataset=train_dataset_nli,\n",
    "    eval_dataset=val_dataset_nli,\n",
    "    compute_metrics=compute_metrics,\n",
    "    callbacks=[EarlyStoppingCallback(early_stopping_patience=1)]\n",
    "\n",
    ")\n",
    "\n",
    "trainer_nli.train()"
   ]
  },
  {
   "cell_type": "code",
   "execution_count": 11,
   "metadata": {},
   "outputs": [
    {
     "name": "stderr",
     "output_type": "stream",
     "text": [
      "100%|██████████| 14/14 [02:12<00:00,  9.44s/it]\n"
     ]
    },
    {
     "name": "stdout",
     "output_type": "stream",
     "text": [
      "Accuracy: 0.80\n",
      "Evaluasi Simple Model:\n",
      "\n",
      "Accuracy   : 80.37%\n",
      "Precision  : 89.58%\n",
      "Recall     : 72.88%\n",
      "F1-Score   : 80.37%\n",
      "\n",
      "                      precision    recall  f1-score   support\n",
      "\n",
      "   Real (Entailment)       0.73      0.90      0.80        48\n",
      "Fake (Contradiction)       0.90      0.73      0.80        59\n",
      "\n",
      "            accuracy                           0.80       107\n",
      "           macro avg       0.81      0.81      0.80       107\n",
      "        weighted avg       0.82      0.80      0.80       107\n",
      "\n"
     ]
    }
   ],
   "source": [
    "# === Evaluasi di Test Set (Simple Model) ===\n",
    "test_preds_simple = trainer_simple.predict(test_dataset_simple).predictions.argmax(axis=1)\n",
    "simple_accuracy = accuracy_score(test_labels, test_preds_simple)\n",
    "print(f\"Accuracy: {simple_accuracy:.2f}\")\n",
    "\n",
    "# Hitung Precision, Recall, F1-Score\n",
    "precision_simple = precision_score(test_labels, test_preds_simple)\n",
    "recall_simple = recall_score(test_labels, test_preds_simple)\n",
    "f1_simple = f1_score(test_labels, test_preds_simple)\n",
    "\n",
    "# Print Evaluasi\n",
    "print(\"Evaluasi Simple Model:\\n\")\n",
    "print(f\"Accuracy   : {simple_accuracy * 100:.2f}%\")\n",
    "print(f\"Precision  : {precision_simple * 100:.2f}%\")\n",
    "print(f\"Recall     : {recall_simple * 100:.2f}%\")\n",
    "print(f\"F1-Score   : {f1_simple * 100:.2f}%\\n\")\n",
    "print(classification_report(test_labels, test_preds_simple, target_names=[\"Real (Entailment)\", \"Fake (Contradiction)\"]))\n",
    "\n",
    "# Simpan Hasil Prediksi ke CSV\n",
    "test_results_simple = pd.DataFrame({\n",
    "    'Statement': test_texts['Statement'].values,\n",
    "    'Label Asli': test_labels.values,\n",
    "    'Prediksi': test_preds_simple\n",
    "})\n",
    "\n",
    "test_results_simple.to_csv('simple_model_test_results.csv', index=False)"
   ]
  },
  {
   "cell_type": "code",
   "execution_count": 23,
   "metadata": {},
   "outputs": [
    {
     "name": "stdout",
     "output_type": "stream",
     "text": [
      "                      precision    recall  f1-score   support\n",
      "\n",
      "   Real (Entailment)     0.7288    0.8958    0.8037        48\n",
      "Fake (Contradiction)     0.8958    0.7288    0.8037        59\n",
      "\n",
      "            accuracy                         0.8037       107\n",
      "           macro avg     0.8123    0.8123    0.8037       107\n",
      "        weighted avg     0.8209    0.8037    0.8037       107\n",
      "\n"
     ]
    }
   ],
   "source": [
    "\n",
    "\n",
    "# Evaluasi dan cetak classification report dengan 4 angka di belakang koma\n",
    "print(classification_report(test_labels, test_preds_simple, target_names=[\"Real (Entailment)\", \"Fake (Contradiction)\"], digits=4))\n"
   ]
  },
  {
   "cell_type": "code",
   "execution_count": null,
   "metadata": {},
   "outputs": [
    {
     "name": "stderr",
     "output_type": "stream",
     "text": [
      "100%|██████████| 14/14 [01:48<00:00,  7.72s/it]"
     ]
    },
    {
     "name": "stdout",
     "output_type": "stream",
     "text": [
      "Accuracy: 0.87\n",
      "\n",
      "Evaluasi NLI Model:\n",
      "\n",
      "Accuracy   : 86.92%\n",
      "Precision  : 97.87%\n",
      "Recall     : 77.97%\n",
      "F1-Score   : 86.79%\n",
      "\n",
      "                      precision    recall  f1-score   support\n",
      "\n",
      "   Real (Entailment)       0.78      0.98      0.87        48\n",
      "Fake (Contradiction)       0.98      0.78      0.87        59\n",
      "\n",
      "            accuracy                           0.87       107\n",
      "           macro avg       0.88      0.88      0.87       107\n",
      "        weighted avg       0.89      0.87      0.87       107\n",
      "\n"
     ]
    },
    {
     "name": "stderr",
     "output_type": "stream",
     "text": [
      "\n"
     ]
    }
   ],
   "source": [
    "# === Evaluasi di Test Set (NLI Model) ===\n",
    "test_preds_nli = trainer_nli.predict(test_dataset_nli).predictions.argmax(axis=1)\n",
    "nli_accuracy = accuracy_score(test_labels, test_preds_nli)\n",
    "print(f\"Accuracy: {nli_accuracy:.2f}\")\n",
    "\n",
    "# Hitung Precision, Recall, F1-Score\n",
    "precision_nli = precision_score(test_labels, test_preds_nli)\n",
    "recall_nli = recall_score(test_labels, test_preds_nli)\n",
    "f1_nli = f1_score(test_labels, test_preds_nli)\n",
    "\n",
    "# Print Evaluasi\n",
    "print(\"\\nEvaluasi NLI Model:\\n\")\n",
    "print(f\"Accuracy   : {nli_accuracy * 100:.2f}%\")\n",
    "print(f\"Precision  : {precision_nli * 100:.2f}%\")\n",
    "print(f\"Recall     : {recall_nli * 100:.2f}%\")\n",
    "print(f\"F1-Score   : {f1_nli * 100:.2f}%\\n\")\n",
    "print(classification_report(test_labels, test_preds_nli, target_names=[\"Real (Entailment)\", \"Fake (Contradiction)\"]))\n",
    "\n",
    "# Simpan Hasil Prediksi ke CSV\n",
    "test_results_nli = pd.DataFrame({\n",
    "    'Statement': test_texts['Statement'].values,\n",
    "    'Narrative': test_texts['Narrative'].values,\n",
    "    'Label Asli': test_labels.values,\n",
    "    'Prediksi': test_preds_nli\n",
    "})\n",
    "\n",
    "test_results_nli.to_csv('nli_model_test_results.csv', index=False)"
   ]
  },
  {
   "cell_type": "code",
   "execution_count": 22,
   "metadata": {},
   "outputs": [
    {
     "name": "stdout",
     "output_type": "stream",
     "text": [
      "                      precision    recall  f1-score   support\n",
      "\n",
      "   Real (Entailment)     0.7833    0.9792    0.8704        48\n",
      "Fake (Contradiction)     0.9787    0.7797    0.8679        59\n",
      "\n",
      "            accuracy                         0.8692       107\n",
      "           macro avg     0.8810    0.8794    0.8691       107\n",
      "        weighted avg     0.8911    0.8692    0.8690       107\n",
      "\n"
     ]
    }
   ],
   "source": [
    "# Evaluasi dan cetak classification report dengan 4 angka di belakang koma\n",
    "print(classification_report(test_labels, test_preds_nli, target_names=[\"Real (Entailment)\", \"Fake (Contradiction)\"], digits=4))\n"
   ]
  },
  {
   "cell_type": "code",
   "execution_count": 13,
   "metadata": {},
   "outputs": [
    {
     "name": "stdout",
     "output_type": "stream",
     "text": [
      "Jumlah Train Loss yang Tercatat: 4\n",
      "Train Loss: [0.5318, 0.2831, 0.1856, 0.1272]\n",
      "Jumlah Validation Loss yang Tercatat: 4\n",
      "Validation Loss: [0.30914974212646484, 0.27302759885787964, 0.22252903878688812, 0.22795546054840088]\n"
     ]
    }
   ],
   "source": [
    "logs = trainer_simple.state.log_history\n",
    "\n",
    "# Ambil train_loss dan eval_loss dari log history\n",
    "train_loss = [x['loss'] for x in logs if 'loss' in x]\n",
    "val_loss = [x['eval_loss'] for x in logs if 'eval_loss' in x]\n",
    "\n",
    "# Cetak jumlah dan isi train_loss\n",
    "print(f\"Jumlah Train Loss yang Tercatat: {len(train_loss)}\")\n",
    "print(f\"Train Loss: {train_loss}\")\n",
    "\n",
    "# Cetak jumlah dan isi val_loss\n",
    "print(f\"Jumlah Validation Loss yang Tercatat: {len(val_loss)}\")\n",
    "print(f\"Validation Loss: {val_loss}\")\n"
   ]
  },
  {
   "cell_type": "code",
   "execution_count": 14,
   "metadata": {},
   "outputs": [
    {
     "name": "stdout",
     "output_type": "stream",
     "text": [
      "Jumlah Train Loss yang Tercatat: 3\n",
      "Train Loss: [0.4456, 0.1373, 0.058]\n",
      "Jumlah Validation Loss yang Tercatat: 3\n",
      "Validation Loss: [0.19761066138744354, 0.10124704241752625, 0.13584522902965546]\n"
     ]
    }
   ],
   "source": [
    "logs = trainer_nli.state.log_history\n",
    "\n",
    "# Ambil train_loss dan eval_loss dari log history\n",
    "train_loss = [x['loss'] for x in logs if 'loss' in x]\n",
    "val_loss = [x['eval_loss'] for x in logs if 'eval_loss' in x]\n",
    "\n",
    "# Cetak jumlah dan isi train_loss\n",
    "print(f\"Jumlah Train Loss yang Tercatat: {len(train_loss)}\")\n",
    "print(f\"Train Loss: {train_loss}\")\n",
    "\n",
    "# Cetak jumlah dan isi val_loss\n",
    "print(f\"Jumlah Validation Loss yang Tercatat: {len(val_loss)}\")\n",
    "print(f\"Validation Loss: {val_loss}\")\n"
   ]
  },
  {
   "cell_type": "code",
   "execution_count": 18,
   "metadata": {},
   "outputs": [
    {
     "data": {
      "image/png": "[encoded data removed]",
      "text/plain": [
       "<Figure size 800x600 with 2 Axes>"
      ]
     },
     "metadata": {},
     "output_type": "display_data"
    }
   ],
   "source": [
    "# Confusion Matrix\n",
    "cm_nli = confusion_matrix(test_labels, test_preds_simple)\n",
    "\n",
    "plt.figure(figsize=(8, 6))\n",
    "sns.heatmap(cm_nli, annot=True, fmt='d', cmap='Blues')\n",
    "plt.title(\"Confusion Matrix Simple Model\")\n",
    "plt.xlabel(\"Predicted Label\")  # Tambahkan label untuk sumbu X\n",
    "plt.ylabel(\"True Label\")       # Tambahkan label untuk sumbu Y\n",
    "plt.show()"
   ]
  },
  {
   "cell_type": "code",
   "execution_count": 27,
   "metadata": {},
   "outputs": [
    {
     "data": {
      "image/png": "[encoded data removed]",
      "text/plain": [
       "<Figure size 800x600 with 2 Axes>"
      ]
     },
     "metadata": {},
     "output_type": "display_data"
    }
   ],
   "source": [
    "# Confusion Matrix\n",
    "cm_nli = confusion_matrix(test_labels, test_preds_simple)\n",
    "\n",
    "plt.figure(figsize=(8, 6))\n",
    "sns.heatmap(cm_nli, annot=True, fmt='d', cmap='Blues', annot_kws={\"size\": 16})  # Perbesar angka dalam heatmap\n",
    "plt.title(\"Confusion Matrix Simple Model\", fontsize=14)  # Perbesar judul\n",
    "plt.xlabel(\"Predicted Label\", fontsize=14)  # Perbesar label sumbu X\n",
    "plt.ylabel(\"True Label\", fontsize=14)       # Perbesar label sumbu Y|\n",
    "plt.xticks(fontsize=12)  # Perbesar angka pada sumbu X\n",
    "plt.yticks(fontsize=12)  # Perbesar angka pada sumbu Y\n",
    "plt.show()"
   ]
  },
  {
   "cell_type": "code",
   "execution_count": 26,
   "metadata": {},
   "outputs": [
    {
     "data": {
      "image/png": "[encoded data removed]",
      "text/plain": [
       "<Figure size 800x600 with 2 Axes>"
      ]
     },
     "metadata": {},
     "output_type": "display_data"
    }
   ],
   "source": [
    "# Confusion Matrix\n",
    "cm_nli = confusion_matrix(test_labels, test_preds_nli)\n",
    "\n",
    "plt.figure(figsize=(8, 6))\n",
    "sns.heatmap(cm_nli, annot=True, fmt='d', cmap='Blues', annot_kws={\"size\": 16})  # Perbesar angka dalam heatmap\n",
    "plt.title(\"Confusion Matrix NLI Model\", fontsize=14)  # Perbesar judul\n",
    "plt.xlabel(\"Predicted Label\", fontsize=14)  # Perbesar label sumbu X\n",
    "plt.ylabel(\"True Label\", fontsize=14)       # Perbesar label sumbu Y\n",
    "plt.xticks(fontsize=12)  # Perbesar angka pada sumbu X\n",
    "plt.yticks(fontsize=12)  # Perbesar angka pada sumbu Y\n",
    "plt.show()"
   ]
  },
  {
   "cell_type": "code",
   "execution_count": 24,
   "metadata": {},
   "outputs": [
    {
     "data": {
      "image/png": "[encoded data removed]",
      "text/plain": [
       "<Figure size 800x600 with 2 Axes>"
      ]
     },
     "metadata": {},
     "output_type": "display_data"
    }
   ],
   "source": [
    "# Confusion Matrix\n",
    "cm_nli = confusion_matrix(test_labels, test_preds_nli)\n",
    "\n",
    "plt.figure(figsize=(8, 6))\n",
    "sns.heatmap(cm_nli, annot=True, fmt='d', cmap='Blues')\n",
    "plt.title(\"Confusion Matrix NLI Model\")\n",
    "plt.xlabel(\"Predicted Label\")  # Tambahkan label untuk sumbu X\n",
    "plt.ylabel(\"True Label\")       # Tambahkan label untuk sumbu Y\n",
    "plt.show()"
   ]
  },
  {
   "cell_type": "code",
   "execution_count": null,
   "metadata": {},
   "outputs": [],
   "source": []
  }
 ],
 "metadata": {
  "kernelspec": {
   "display_name": "Python 3",
   "language": "python",
   "name": "python3"
  },
  "language_info": {
   "codemirror_mode": {
    "name": "ipython",
    "version": 3
   },
   "file_extension": ".py",
   "mimetype": "text/x-python",
   "name": "python",
   "nbconvert_exporter": "python",
   "pygments_lexer": "ipython3",
   "version": "3.10.5"
  }
 },
 "nbformat": 4,
 "nbformat_minor": 2
}
